{
 "cells": [
  {
   "cell_type": "markdown",
   "metadata": {},
   "source": [
    "The dataset contains some comments that customers describe their experience with a restaurant. Some comments are positive and some are negative. We will build a model with NLP algorithm to classify new comments to know whether they are positive or negative."
   ]
  },
  {
   "cell_type": "code",
   "execution_count": 43,
   "metadata": {},
   "outputs": [],
   "source": [
    "import pandas as pd\n",
    "import numpy as np\n",
    "import matplotlib.pyplot as plt"
   ]
  },
  {
   "cell_type": "code",
   "execution_count": 44,
   "metadata": {},
   "outputs": [
    {
     "name": "stderr",
     "output_type": "stream",
     "text": [
      "b'Skipping line 15: expected 2 fields, saw 4\\nSkipping line 20: expected 2 fields, saw 3\\nSkipping line 23: expected 2 fields, saw 3\\nSkipping line 29: expected 2 fields, saw 3\\nSkipping line 30: expected 2 fields, saw 3\\nSkipping line 32: expected 2 fields, saw 4\\nSkipping line 35: expected 2 fields, saw 3\\nSkipping line 36: expected 2 fields, saw 3\\nSkipping line 39: expected 2 fields, saw 3\\nSkipping line 45: expected 2 fields, saw 3\\nSkipping line 46: expected 2 fields, saw 3\\nSkipping line 49: expected 2 fields, saw 3\\nSkipping line 51: expected 2 fields, saw 3\\nSkipping line 55: expected 2 fields, saw 3\\nSkipping line 57: expected 2 fields, saw 4\\nSkipping line 60: expected 2 fields, saw 3\\nSkipping line 61: expected 2 fields, saw 3\\nSkipping line 67: expected 2 fields, saw 3\\nSkipping line 72: expected 2 fields, saw 3\\nSkipping line 75: expected 2 fields, saw 3\\nSkipping line 76: expected 2 fields, saw 4\\nSkipping line 92: expected 2 fields, saw 3\\nSkipping line 93: expected 2 fields, saw 3\\nSkipping line 94: expected 2 fields, saw 3\\nSkipping line 101: expected 2 fields, saw 3\\nSkipping line 102: expected 2 fields, saw 3\\nSkipping line 103: expected 2 fields, saw 3\\nSkipping line 104: expected 2 fields, saw 3\\nSkipping line 105: expected 2 fields, saw 4\\nSkipping line 108: expected 2 fields, saw 3\\nSkipping line 112: expected 2 fields, saw 3\\nSkipping line 113: expected 2 fields, saw 3\\nSkipping line 115: expected 2 fields, saw 3\\nSkipping line 121: expected 2 fields, saw 3\\nSkipping line 123: expected 2 fields, saw 3\\nSkipping line 125: expected 2 fields, saw 3\\nSkipping line 126: expected 2 fields, saw 3\\nSkipping line 127: expected 2 fields, saw 4\\nSkipping line 129: expected 2 fields, saw 3\\nSkipping line 131: expected 2 fields, saw 3\\nSkipping line 134: expected 2 fields, saw 4\\nSkipping line 136: expected 2 fields, saw 4\\nSkipping line 137: expected 2 fields, saw 3\\nSkipping line 140: expected 2 fields, saw 3\\nSkipping line 148: expected 2 fields, saw 3\\nSkipping line 149: expected 2 fields, saw 3\\nSkipping line 161: expected 2 fields, saw 3\\nSkipping line 164: expected 2 fields, saw 3\\nSkipping line 172: expected 2 fields, saw 3\\nSkipping line 173: expected 2 fields, saw 3\\nSkipping line 175: expected 2 fields, saw 3\\nSkipping line 177: expected 2 fields, saw 3\\nSkipping line 179: expected 2 fields, saw 3\\nSkipping line 180: expected 2 fields, saw 3\\nSkipping line 182: expected 2 fields, saw 3\\nSkipping line 186: expected 2 fields, saw 3\\nSkipping line 188: expected 2 fields, saw 3\\nSkipping line 191: expected 2 fields, saw 3\\nSkipping line 194: expected 2 fields, saw 3\\nSkipping line 195: expected 2 fields, saw 3\\nSkipping line 202: expected 2 fields, saw 3\\nSkipping line 211: expected 2 fields, saw 4\\nSkipping line 212: expected 2 fields, saw 3\\nSkipping line 213: expected 2 fields, saw 3\\nSkipping line 222: expected 2 fields, saw 4\\nSkipping line 224: expected 2 fields, saw 5\\nSkipping line 226: expected 2 fields, saw 3\\nSkipping line 233: expected 2 fields, saw 3\\nSkipping line 235: expected 2 fields, saw 3\\nSkipping line 237: expected 2 fields, saw 3\\nSkipping line 239: expected 2 fields, saw 3\\nSkipping line 241: expected 2 fields, saw 3\\nSkipping line 245: expected 2 fields, saw 3\\nSkipping line 248: expected 2 fields, saw 3\\nSkipping line 255: expected 2 fields, saw 3\\nSkipping line 263: expected 2 fields, saw 3\\nSkipping line 265: expected 2 fields, saw 5\\nSkipping line 267: expected 2 fields, saw 3\\nSkipping line 268: expected 2 fields, saw 3\\nSkipping line 269: expected 2 fields, saw 3\\nSkipping line 271: expected 2 fields, saw 3\\nSkipping line 275: expected 2 fields, saw 4\\nSkipping line 277: expected 2 fields, saw 4\\nSkipping line 285: expected 2 fields, saw 3\\nSkipping line 291: expected 2 fields, saw 3\\nSkipping line 294: expected 2 fields, saw 4\\nSkipping line 295: expected 2 fields, saw 3\\nSkipping line 297: expected 2 fields, saw 3\\nSkipping line 308: expected 2 fields, saw 3\\nSkipping line 309: expected 2 fields, saw 3\\nSkipping line 310: expected 2 fields, saw 3\\nSkipping line 316: expected 2 fields, saw 3\\nSkipping line 318: expected 2 fields, saw 3\\nSkipping line 319: expected 2 fields, saw 4\\nSkipping line 320: expected 2 fields, saw 3\\nSkipping line 323: expected 2 fields, saw 3\\nSkipping line 325: expected 2 fields, saw 3\\nSkipping line 329: expected 2 fields, saw 3\\nSkipping line 330: expected 2 fields, saw 3\\nSkipping line 333: expected 2 fields, saw 3\\nSkipping line 334: expected 2 fields, saw 3\\nSkipping line 340: expected 2 fields, saw 3\\nSkipping line 343: expected 2 fields, saw 4\\nSkipping line 348: expected 2 fields, saw 3\\nSkipping line 349: expected 2 fields, saw 4\\nSkipping line 351: expected 2 fields, saw 3\\nSkipping line 357: expected 2 fields, saw 3\\nSkipping line 358: expected 2 fields, saw 3\\nSkipping line 367: expected 2 fields, saw 3\\nSkipping line 370: expected 2 fields, saw 3\\nSkipping line 374: expected 2 fields, saw 3\\nSkipping line 375: expected 2 fields, saw 4\\nSkipping line 379: expected 2 fields, saw 3\\nSkipping line 381: expected 2 fields, saw 4\\nSkipping line 392: expected 2 fields, saw 3\\nSkipping line 394: expected 2 fields, saw 3\\nSkipping line 397: expected 2 fields, saw 4\\nSkipping line 403: expected 2 fields, saw 3\\nSkipping line 405: expected 2 fields, saw 3\\nSkipping line 413: expected 2 fields, saw 3\\nSkipping line 414: expected 2 fields, saw 3\\nSkipping line 421: expected 2 fields, saw 4\\nSkipping line 423: expected 2 fields, saw 5\\nSkipping line 424: expected 2 fields, saw 3\\nSkipping line 430: expected 2 fields, saw 3\\nSkipping line 441: expected 2 fields, saw 3\\nSkipping line 444: expected 2 fields, saw 3\\nSkipping line 447: expected 2 fields, saw 3\\nSkipping line 450: expected 2 fields, saw 3\\nSkipping line 458: expected 2 fields, saw 3\\nSkipping line 469: expected 2 fields, saw 3\\nSkipping line 470: expected 2 fields, saw 3\\nSkipping line 472: expected 2 fields, saw 3\\nSkipping line 476: expected 2 fields, saw 3\\nSkipping line 477: expected 2 fields, saw 3\\nSkipping line 483: expected 2 fields, saw 3\\nSkipping line 487: expected 2 fields, saw 3\\nSkipping line 490: expected 2 fields, saw 3\\nSkipping line 494: expected 2 fields, saw 3\\nSkipping line 499: expected 2 fields, saw 3\\nSkipping line 502: expected 2 fields, saw 4\\nSkipping line 503: expected 2 fields, saw 3\\nSkipping line 512: expected 2 fields, saw 3\\nSkipping line 513: expected 2 fields, saw 3\\nSkipping line 519: expected 2 fields, saw 4\\nSkipping line 520: expected 2 fields, saw 3\\nSkipping line 521: expected 2 fields, saw 3\\nSkipping line 522: expected 2 fields, saw 3\\nSkipping line 524: expected 2 fields, saw 3\\nSkipping line 527: expected 2 fields, saw 3\\nSkipping line 529: expected 2 fields, saw 3\\nSkipping line 534: expected 2 fields, saw 3\\nSkipping line 535: expected 2 fields, saw 4\\nSkipping line 539: expected 2 fields, saw 5\\nSkipping line 546: expected 2 fields, saw 3\\nSkipping line 552: expected 2 fields, saw 3\\nSkipping line 556: expected 2 fields, saw 3\\nSkipping line 557: expected 2 fields, saw 3\\nSkipping line 575: expected 2 fields, saw 3\\nSkipping line 577: expected 2 fields, saw 3\\nSkipping line 581: expected 2 fields, saw 3\\nSkipping line 584: expected 2 fields, saw 3\\nSkipping line 588: expected 2 fields, saw 3\\nSkipping line 590: expected 2 fields, saw 4\\nSkipping line 603: expected 2 fields, saw 5\\nSkipping line 605: expected 2 fields, saw 4\\nSkipping line 614: expected 2 fields, saw 3\\nSkipping line 615: expected 2 fields, saw 3\\nSkipping line 619: expected 2 fields, saw 3\\nSkipping line 625: expected 2 fields, saw 3\\nSkipping line 631: expected 2 fields, saw 3\\nSkipping line 634: expected 2 fields, saw 3\\nSkipping line 639: expected 2 fields, saw 5\\nSkipping line 640: expected 2 fields, saw 3\\nSkipping line 644: expected 2 fields, saw 4\\nSkipping line 655: expected 2 fields, saw 3\\nSkipping line 662: expected 2 fields, saw 5\\nSkipping line 663: expected 2 fields, saw 3\\nSkipping line 670: expected 2 fields, saw 3\\nSkipping line 682: expected 2 fields, saw 3\\nSkipping line 685: expected 2 fields, saw 3\\nSkipping line 688: expected 2 fields, saw 5\\nSkipping line 689: expected 2 fields, saw 3\\nSkipping line 691: expected 2 fields, saw 3\\nSkipping line 693: expected 2 fields, saw 3\\nSkipping line 696: expected 2 fields, saw 4\\nSkipping line 698: expected 2 fields, saw 3\\nSkipping line 700: expected 2 fields, saw 3\\nSkipping line 701: expected 2 fields, saw 4\\nSkipping line 702: expected 2 fields, saw 3\\nSkipping line 711: expected 2 fields, saw 3\\nSkipping line 712: expected 2 fields, saw 3\\nSkipping line 716: expected 2 fields, saw 3\\nSkipping line 720: expected 2 fields, saw 3\\nSkipping line 722: expected 2 fields, saw 5\\nSkipping line 724: expected 2 fields, saw 3\\nSkipping line 728: expected 2 fields, saw 3\\nSkipping line 731: expected 2 fields, saw 3\\nSkipping line 732: expected 2 fields, saw 3\\nSkipping line 735: expected 2 fields, saw 3\\nSkipping line 737: expected 2 fields, saw 3\\nSkipping line 738: expected 2 fields, saw 3\\nSkipping line 739: expected 2 fields, saw 3\\nSkipping line 745: expected 2 fields, saw 4\\nSkipping line 749: expected 2 fields, saw 3\\nSkipping line 750: expected 2 fields, saw 3\\nSkipping line 752: expected 2 fields, saw 3\\nSkipping line 753: expected 2 fields, saw 4\\nSkipping line 754: expected 2 fields, saw 3\\nSkipping line 756: expected 2 fields, saw 3\\nSkipping line 757: expected 2 fields, saw 3\\nSkipping line 762: expected 2 fields, saw 4\\nSkipping line 764: expected 2 fields, saw 3\\nSkipping line 770: expected 2 fields, saw 6\\nSkipping line 775: expected 2 fields, saw 3\\nSkipping line 781: expected 2 fields, saw 3\\nSkipping line 784: expected 2 fields, saw 4\\nSkipping line 786: expected 2 fields, saw 4\\nSkipping line 789: expected 2 fields, saw 3\\nSkipping line 790: expected 2 fields, saw 4\\nSkipping line 791: expected 2 fields, saw 3\\nSkipping line 796: expected 2 fields, saw 3\\nSkipping line 798: expected 2 fields, saw 3\\nSkipping line 807: expected 2 fields, saw 4\\nSkipping line 810: expected 2 fields, saw 4\\nSkipping line 811: expected 2 fields, saw 3\\nSkipping line 814: expected 2 fields, saw 4\\nSkipping line 831: expected 2 fields, saw 4\\nSkipping line 835: expected 2 fields, saw 3\\nSkipping line 842: expected 2 fields, saw 3\\nSkipping line 844: expected 2 fields, saw 3\\nSkipping line 849: expected 2 fields, saw 3\\nSkipping line 850: expected 2 fields, saw 3\\nSkipping line 851: expected 2 fields, saw 5\\nSkipping line 856: expected 2 fields, saw 4\\nSkipping line 858: expected 2 fields, saw 3\\nSkipping line 862: expected 2 fields, saw 3\\nSkipping line 864: expected 2 fields, saw 4\\nSkipping line 867: expected 2 fields, saw 3\\nSkipping line 869: expected 2 fields, saw 3\\nSkipping line 870: expected 2 fields, saw 3\\nSkipping line 872: expected 2 fields, saw 3\\nSkipping line 874: expected 2 fields, saw 4\\nSkipping line 880: expected 2 fields, saw 3\\nSkipping line 881: expected 2 fields, saw 3\\nSkipping line 883: expected 2 fields, saw 3\\nSkipping line 886: expected 2 fields, saw 3\\nSkipping line 889: expected 2 fields, saw 3\\nSkipping line 891: expected 2 fields, saw 3\\nSkipping line 899: expected 2 fields, saw 3\\nSkipping line 901: expected 2 fields, saw 3\\nSkipping line 905: expected 2 fields, saw 3\\nSkipping line 907: expected 2 fields, saw 4\\nSkipping line 913: expected 2 fields, saw 3\\nSkipping line 914: expected 2 fields, saw 3\\nSkipping line 915: expected 2 fields, saw 3\\nSkipping line 918: expected 2 fields, saw 3\\nSkipping line 921: expected 2 fields, saw 3\\nSkipping line 922: expected 2 fields, saw 3\\nSkipping line 924: expected 2 fields, saw 3\\nSkipping line 926: expected 2 fields, saw 4\\nSkipping line 927: expected 2 fields, saw 3\\nSkipping line 928: expected 2 fields, saw 3\\nSkipping line 932: expected 2 fields, saw 4\\nSkipping line 933: expected 2 fields, saw 3\\nSkipping line 938: expected 2 fields, saw 3\\nSkipping line 940: expected 2 fields, saw 3\\nSkipping line 941: expected 2 fields, saw 4\\nSkipping line 947: expected 2 fields, saw 3\\nSkipping line 948: expected 2 fields, saw 4\\nSkipping line 951: expected 2 fields, saw 3\\nSkipping line 954: expected 2 fields, saw 3\\nSkipping line 956: expected 2 fields, saw 3\\nSkipping line 958: expected 2 fields, saw 3\\nSkipping line 962: expected 2 fields, saw 4\\nSkipping line 974: expected 2 fields, saw 3\\nSkipping line 976: expected 2 fields, saw 5\\nSkipping line 978: expected 2 fields, saw 3\\nSkipping line 981: expected 2 fields, saw 3\\nSkipping line 982: expected 2 fields, saw 3\\nSkipping line 986: expected 2 fields, saw 3\\nSkipping line 989: expected 2 fields, saw 4\\nSkipping line 1000: expected 2 fields, saw 3\\nSkipping line 1001: expected 2 fields, saw 4\\n'\n"
     ]
    }
   ],
   "source": [
    "comments = pd.read_csv(\"https://bilkav.com/Restaurant_Reviews.csv\", error_bad_lines=False)\n",
    "#we have to set the parameter error_bad_lines to 'False' because some comments contain ',' and pandas assumes there are \n",
    "#three or more columns but the dataset has two. This way, pandas has skipped these lines."
   ]
  },
  {
   "cell_type": "code",
   "execution_count": 45,
   "metadata": {},
   "outputs": [
    {
     "data": {
      "text/html": [
       "<div>\n",
       "<style scoped>\n",
       "    .dataframe tbody tr th:only-of-type {\n",
       "        vertical-align: middle;\n",
       "    }\n",
       "\n",
       "    .dataframe tbody tr th {\n",
       "        vertical-align: top;\n",
       "    }\n",
       "\n",
       "    .dataframe thead th {\n",
       "        text-align: right;\n",
       "    }\n",
       "</style>\n",
       "<table border=\"1\" class=\"dataframe\">\n",
       "  <thead>\n",
       "    <tr style=\"text-align: right;\">\n",
       "      <th></th>\n",
       "      <th>Review</th>\n",
       "      <th>Liked</th>\n",
       "    </tr>\n",
       "  </thead>\n",
       "  <tbody>\n",
       "    <tr>\n",
       "      <th>0</th>\n",
       "      <td>Wow... Loved this place.</td>\n",
       "      <td>1.0</td>\n",
       "    </tr>\n",
       "    <tr>\n",
       "      <th>1</th>\n",
       "      <td>Crust is not good.</td>\n",
       "      <td>0.0</td>\n",
       "    </tr>\n",
       "    <tr>\n",
       "      <th>2</th>\n",
       "      <td>Not tasty and the texture was just nasty.</td>\n",
       "      <td>0.0</td>\n",
       "    </tr>\n",
       "    <tr>\n",
       "      <th>3</th>\n",
       "      <td>Stopped by during the late May bank holiday of...</td>\n",
       "      <td>1.0</td>\n",
       "    </tr>\n",
       "    <tr>\n",
       "      <th>4</th>\n",
       "      <td>The selection on the menu was great and so wer...</td>\n",
       "      <td>1.0</td>\n",
       "    </tr>\n",
       "  </tbody>\n",
       "</table>\n",
       "</div>"
      ],
      "text/plain": [
       "                                              Review  Liked\n",
       "0                           Wow... Loved this place.    1.0\n",
       "1                                 Crust is not good.    0.0\n",
       "2          Not tasty and the texture was just nasty.    0.0\n",
       "3  Stopped by during the late May bank holiday of...    1.0\n",
       "4  The selection on the menu was great and so wer...    1.0"
      ]
     },
     "execution_count": 45,
     "metadata": {},
     "output_type": "execute_result"
    }
   ],
   "source": [
    "comments.head()"
   ]
  },
  {
   "cell_type": "markdown",
   "metadata": {},
   "source": [
    "As we can see, the dataset has two columns, 'Review' and 'Liked'. In 'Liked' column, 1 means positive, and 0 means negative."
   ]
  },
  {
   "cell_type": "markdown",
   "metadata": {},
   "source": [
    "The actual data is in the 'Review' column. These are the comments written by customers. The problem in these data, comments contains some punctuation marks. First, we have to divide sentences into words, and if there is a punctuation mark adjacent to the word we need to remove it. We will use regular expression method to solve this problem."
   ]
  },
  {
   "cell_type": "code",
   "execution_count": 46,
   "metadata": {},
   "outputs": [],
   "source": [
    "comments = comments.dropna()"
   ]
  },
  {
   "cell_type": "code",
   "execution_count": 47,
   "metadata": {},
   "outputs": [
    {
     "data": {
      "text/plain": [
       "704"
      ]
     },
     "execution_count": 47,
     "metadata": {},
     "output_type": "execute_result"
    }
   ],
   "source": [
    "len(comments) #there are 704 comments left in the dataset"
   ]
  },
  {
   "cell_type": "code",
   "execution_count": 48,
   "metadata": {},
   "outputs": [],
   "source": [
    "import re "
   ]
  },
  {
   "cell_type": "markdown",
   "metadata": {},
   "source": [
    "Firstly, we will try to clean only one comment to be able to understand the process."
   ]
  },
  {
   "cell_type": "code",
   "execution_count": 49,
   "metadata": {},
   "outputs": [],
   "source": [
    "review = comments[\"Review\"][0]"
   ]
  },
  {
   "cell_type": "code",
   "execution_count": 50,
   "metadata": {},
   "outputs": [
    {
     "data": {
      "text/plain": [
       "'Wow... Loved this place.'"
      ]
     },
     "execution_count": 50,
     "metadata": {},
     "output_type": "execute_result"
    }
   ],
   "source": [
    "review"
   ]
  },
  {
   "cell_type": "markdown",
   "metadata": {},
   "source": [
    "Now we will use re.sub method to put spaces instead of punctuation."
   ]
  },
  {
   "cell_type": "code",
   "execution_count": 51,
   "metadata": {},
   "outputs": [],
   "source": [
    "review = re.sub(\"[^a-zA-Z]\",\" \",review)"
   ]
  },
  {
   "cell_type": "code",
   "execution_count": 52,
   "metadata": {},
   "outputs": [
    {
     "data": {
      "text/plain": [
       "'Wow    Loved this place '"
      ]
     },
     "execution_count": 52,
     "metadata": {},
     "output_type": "execute_result"
    }
   ],
   "source": [
    "review"
   ]
  },
  {
   "cell_type": "markdown",
   "metadata": {},
   "source": [
    "As you can see the punctation marks deleted. Now we have to lower characters to work with sentences easily."
   ]
  },
  {
   "cell_type": "code",
   "execution_count": 53,
   "metadata": {},
   "outputs": [],
   "source": [
    "review = review.lower()"
   ]
  },
  {
   "cell_type": "code",
   "execution_count": 54,
   "metadata": {},
   "outputs": [
    {
     "data": {
      "text/plain": [
       "'wow    loved this place '"
      ]
     },
     "execution_count": 54,
     "metadata": {},
     "output_type": "execute_result"
    }
   ],
   "source": [
    "review"
   ]
  },
  {
   "cell_type": "markdown",
   "metadata": {},
   "source": [
    "We have cleaned the sentence and lowered the characters. Now we have to create a list that contains words to be able to get rid of extra spaces."
   ]
  },
  {
   "cell_type": "code",
   "execution_count": 55,
   "metadata": {},
   "outputs": [],
   "source": [
    "review = review.split()"
   ]
  },
  {
   "cell_type": "code",
   "execution_count": 56,
   "metadata": {},
   "outputs": [
    {
     "data": {
      "text/plain": [
       "['wow', 'loved', 'this', 'place']"
      ]
     },
     "execution_count": 56,
     "metadata": {},
     "output_type": "execute_result"
    }
   ],
   "source": [
    "review"
   ]
  },
  {
   "cell_type": "markdown",
   "metadata": {},
   "source": [
    "Now we have to delete stopwords in the sentences because they do not describe any feelings and can be problem while fitting the model."
   ]
  },
  {
   "cell_type": "code",
   "execution_count": 57,
   "metadata": {},
   "outputs": [],
   "source": [
    "import nltk"
   ]
  },
  {
   "cell_type": "code",
   "execution_count": 58,
   "metadata": {},
   "outputs": [
    {
     "name": "stderr",
     "output_type": "stream",
     "text": [
      "[nltk_data] Downloading package stopwords to\n",
      "[nltk_data]     C:\\Users\\btskd\\AppData\\Roaming\\nltk_data...\n",
      "[nltk_data]   Package stopwords is already up-to-date!\n"
     ]
    }
   ],
   "source": [
    "nltk.download(\"stopwords\")\n",
    "from nltk.corpus import stopwords"
   ]
  },
  {
   "cell_type": "code",
   "execution_count": 59,
   "metadata": {},
   "outputs": [],
   "source": [
    "from nltk.stem.porter import PorterStemmer #this package for to get words in their root form"
   ]
  },
  {
   "cell_type": "code",
   "execution_count": 60,
   "metadata": {},
   "outputs": [],
   "source": [
    "ps = PorterStemmer()"
   ]
  },
  {
   "cell_type": "code",
   "execution_count": 61,
   "metadata": {},
   "outputs": [],
   "source": [
    "review = [ps.stem(word) for word in review if not word in set(stopwords.words(\"english\"))]\n",
    "#if the word is not in the stopwords set, stem the word and then add into the review list."
   ]
  },
  {
   "cell_type": "code",
   "execution_count": 62,
   "metadata": {},
   "outputs": [
    {
     "data": {
      "text/plain": [
       "['wow', 'love', 'place']"
      ]
     },
     "execution_count": 62,
     "metadata": {},
     "output_type": "execute_result"
    }
   ],
   "source": [
    "review"
   ]
  },
  {
   "cell_type": "markdown",
   "metadata": {},
   "source": [
    "This is the final form of the review. Now we will create a sentence with these words."
   ]
  },
  {
   "cell_type": "code",
   "execution_count": 63,
   "metadata": {},
   "outputs": [],
   "source": [
    "review = ' '.join(review)"
   ]
  },
  {
   "cell_type": "code",
   "execution_count": 64,
   "metadata": {},
   "outputs": [
    {
     "data": {
      "text/plain": [
       "'wow love place'"
      ]
     },
     "execution_count": 64,
     "metadata": {},
     "output_type": "execute_result"
    }
   ],
   "source": [
    "review"
   ]
  },
  {
   "cell_type": "markdown",
   "metadata": {},
   "source": [
    "Finally we can use this process to clean all reviews in the dataset. "
   ]
  },
  {
   "cell_type": "code",
   "execution_count": 67,
   "metadata": {},
   "outputs": [],
   "source": [
    "comments_final = []\n",
    "for i in comments.index:\n",
    "    review = re.sub(\"[^a-zA-Z]\",\" \",comments[\"Review\"][i])\n",
    "    review = review.lower()\n",
    "    review = review.split()\n",
    "    review = [ps.stem(word) for word in review if not word in set(stopwords.words(\"english\"))]\n",
    "    review = \" \".join(review)\n",
    "    comments_final.append(review)"
   ]
  },
  {
   "cell_type": "code",
   "execution_count": 171,
   "metadata": {},
   "outputs": [
    {
     "data": {
      "text/plain": [
       "['wow love place',\n",
       " 'crust good',\n",
       " 'tasti textur nasti',\n",
       " 'stop late may bank holiday rick steve recommend love',\n",
       " 'select menu great price',\n",
       " 'get angri want damn pho',\n",
       " 'honeslti tast fresh',\n",
       " 'potato like rubber could tell made ahead time kept warmer',\n",
       " 'fri great',\n",
       " 'great touch']"
      ]
     },
     "execution_count": 171,
     "metadata": {},
     "output_type": "execute_result"
    }
   ],
   "source": [
    "comments_final[0:10] #for checking the sentences"
   ]
  },
  {
   "cell_type": "markdown",
   "metadata": {},
   "source": [
    "<b>Feature Extraction</b>"
   ]
  },
  {
   "cell_type": "code",
   "execution_count": 69,
   "metadata": {},
   "outputs": [],
   "source": [
    "from sklearn.feature_extraction.text import CountVectorizer"
   ]
  },
  {
   "cell_type": "code",
   "execution_count": 70,
   "metadata": {},
   "outputs": [],
   "source": [
    "cv = CountVectorizer(max_features = 2000) #get the most used 2000 words"
   ]
  },
  {
   "cell_type": "code",
   "execution_count": 73,
   "metadata": {},
   "outputs": [],
   "source": [
    "X = cv.fit_transform(comments_final).toarray() #An array is created in which the 2000 words in the cv are columns and the comments_final list, which consists of the comments we created above, is a row. If a comment contains the word in the column, that part is marked as 1.  "
   ]
  },
  {
   "cell_type": "code",
   "execution_count": 74,
   "metadata": {
    "scrolled": true
   },
   "outputs": [
    {
     "data": {
      "text/plain": [
       "array([[0, 0, 0, ..., 0, 0, 0],\n",
       "       [0, 0, 0, ..., 0, 0, 0],\n",
       "       [0, 0, 0, ..., 0, 0, 0],\n",
       "       ...,\n",
       "       [0, 0, 0, ..., 0, 0, 0],\n",
       "       [0, 0, 0, ..., 0, 0, 0],\n",
       "       [0, 0, 0, ..., 0, 0, 0]], dtype=int64)"
      ]
     },
     "execution_count": 74,
     "metadata": {},
     "output_type": "execute_result"
    }
   ],
   "source": [
    "X #independent variable"
   ]
  },
  {
   "cell_type": "code",
   "execution_count": 75,
   "metadata": {},
   "outputs": [],
   "source": [
    "y = comments[\"Liked\"].values"
   ]
  },
  {
   "cell_type": "code",
   "execution_count": 76,
   "metadata": {},
   "outputs": [
    {
     "data": {
      "text/plain": [
       "array([1., 0., 0., 1., 1., 0., 0., 0., 1., 1., 1., 0., 0., 0., 0., 1., 0.,\n",
       "       0., 0., 1., 1., 1., 1., 0., 0., 0., 1., 1., 1., 1., 0., 1., 0., 0.,\n",
       "       1., 0., 1., 1., 1., 1., 1., 0., 0., 0., 1., 1., 1., 1., 1., 1., 0.,\n",
       "       1., 1., 0., 0., 0., 1., 1., 0., 0., 0., 0., 1., 0., 1., 0., 1., 1.,\n",
       "       1., 1., 0., 0., 1., 1., 0., 1., 1., 1., 1., 1., 1., 1., 1., 0., 0.,\n",
       "       0., 0., 1., 0., 0., 0., 1., 0., 1., 1., 1., 0., 0., 0., 0., 1., 1.,\n",
       "       0., 0., 1., 1., 0., 0., 1., 1., 1., 1., 1., 0., 1., 0., 1., 1., 1.,\n",
       "       0., 0., 1., 1., 1., 0., 0., 0., 0., 0., 1., 1., 1., 1., 1., 0., 1.,\n",
       "       0., 0., 1., 1., 1., 0., 1., 1., 1., 0., 0., 0., 1., 0., 1., 1., 0.,\n",
       "       1., 0., 1., 0., 0., 1., 1., 1., 1., 1., 1., 1., 0., 0., 1., 0., 0.,\n",
       "       1., 1., 0., 1., 0., 1., 1., 1., 1., 0., 1., 0., 1., 1., 1., 1., 1.,\n",
       "       1., 1., 1., 1., 1., 0., 0., 1., 0., 0., 1., 1., 0., 0., 1., 0., 0.,\n",
       "       1., 0., 1., 0., 1., 1., 0., 0., 0., 1., 0., 1., 1., 0., 1., 0., 0.,\n",
       "       1., 0., 1., 1., 1., 1., 0., 0., 0., 1., 1., 0., 0., 0., 1., 1., 0.,\n",
       "       1., 1., 0., 0., 1., 0., 1., 1., 1., 1., 0., 1., 1., 0., 1., 0., 1.,\n",
       "       1., 0., 0., 0., 1., 0., 0., 0., 1., 1., 0., 0., 0., 1., 0., 0., 1.,\n",
       "       1., 1., 1., 0., 1., 1., 1., 0., 0., 1., 0., 1., 1., 1., 0., 1., 1.,\n",
       "       0., 0., 0., 1., 1., 1., 0., 0., 1., 1., 0., 1., 0., 1., 1., 0., 1.,\n",
       "       0., 1., 1., 1., 0., 1., 0., 1., 0., 0., 1., 0., 1., 0., 0., 0., 0.,\n",
       "       1., 1., 1., 0., 1., 1., 0., 1., 1., 0., 1., 0., 1., 0., 1., 1., 1.,\n",
       "       1., 0., 0., 0., 1., 1., 0., 1., 1., 1., 1., 1., 0., 1., 1., 1., 1.,\n",
       "       1., 1., 0., 0., 0., 0., 0., 1., 1., 1., 1., 0., 1., 0., 1., 0., 1.,\n",
       "       1., 1., 1., 0., 1., 0., 0., 1., 1., 0., 1., 0., 1., 1., 0., 1., 1.,\n",
       "       1., 0., 0., 0., 1., 1., 0., 0., 1., 1., 1., 0., 1., 0., 0., 0., 0.,\n",
       "       0., 1., 0., 1., 1., 0., 0., 1., 0., 1., 0., 0., 1., 1., 1., 0., 1.,\n",
       "       0., 1., 1., 0., 1., 1., 1., 1., 1., 0., 1., 0., 0., 0., 1., 1., 0.,\n",
       "       1., 0., 0., 0., 1., 1., 1., 0., 0., 0., 1., 1., 1., 0., 1., 0., 1.,\n",
       "       1., 0., 0., 0., 0., 0., 0., 1., 0., 0., 1., 1., 1., 0., 1., 1., 1.,\n",
       "       1., 1., 1., 1., 1., 1., 0., 0., 1., 0., 1., 1., 1., 1., 0., 1., 0.,\n",
       "       0., 1., 1., 0., 1., 1., 1., 1., 0., 0., 0., 1., 1., 1., 0., 1., 0.,\n",
       "       0., 1., 0., 1., 1., 0., 0., 1., 1., 1., 1., 0., 1., 0., 1., 1., 1.,\n",
       "       1., 1., 0., 0., 0., 1., 1., 1., 1., 0., 1., 1., 0., 0., 0., 0., 1.,\n",
       "       1., 1., 0., 1., 1., 0., 1., 0., 0., 1., 1., 0., 1., 0., 1., 0., 0.,\n",
       "       1., 1., 1., 0., 1., 0., 1., 0., 1., 1., 1., 0., 0., 0., 0., 1., 1.,\n",
       "       0., 1., 0., 0., 0., 0., 1., 1., 0., 0., 0., 0., 0., 0., 0., 0., 1.,\n",
       "       0., 1., 0., 0., 1., 1., 0., 0., 0., 0., 1., 0., 1., 1., 0., 1., 0.,\n",
       "       0., 1., 1., 1., 1., 0., 0., 1., 0., 0., 0., 1., 0., 1., 0., 0., 0.,\n",
       "       1., 1., 1., 0., 0., 1., 1., 1., 0., 0., 1., 0., 0., 0., 1., 0., 1.,\n",
       "       0., 0., 0., 0., 0., 0., 0., 0., 0., 0., 0., 0., 0., 0., 0., 0., 0.,\n",
       "       0., 0., 0., 0., 0., 0., 0., 0., 0., 0., 0., 0., 0., 0., 0., 0., 0.,\n",
       "       0., 0., 0., 0., 0., 0., 0., 0., 0., 0., 0., 0., 0., 0., 0., 0., 0.,\n",
       "       0., 0., 0., 0., 0., 0., 0.])"
      ]
     },
     "execution_count": 76,
     "metadata": {},
     "output_type": "execute_result"
    }
   ],
   "source": [
    "y #dependent variable"
   ]
  },
  {
   "cell_type": "markdown",
   "metadata": {},
   "source": [
    "#### Creating the model"
   ]
  },
  {
   "cell_type": "code",
   "execution_count": 77,
   "metadata": {},
   "outputs": [],
   "source": [
    "from sklearn.model_selection import train_test_split"
   ]
  },
  {
   "cell_type": "code",
   "execution_count": 78,
   "metadata": {},
   "outputs": [],
   "source": [
    "X_train, X_test, y_train, y_test = train_test_split(X, y, test_size=0.20, random_state=0)"
   ]
  },
  {
   "cell_type": "code",
   "execution_count": 94,
   "metadata": {},
   "outputs": [],
   "source": [
    "from sklearn.neighbors import KNeighborsClassifier"
   ]
  },
  {
   "cell_type": "markdown",
   "metadata": {},
   "source": [
    "We will use K-Nearest Neighbors method for classification. We create a small test to decide how many neighbors we should use to get the best results."
   ]
  },
  {
   "cell_type": "code",
   "execution_count": 95,
   "metadata": {},
   "outputs": [],
   "source": [
    "neighbors_setting = range(1,11) #n_neighbors parameter will have 1 to 10 neighbor(s)\n",
    "training_accuracy = []\n",
    "test_accuracy = []"
   ]
  },
  {
   "cell_type": "code",
   "execution_count": 96,
   "metadata": {},
   "outputs": [],
   "source": [
    "for n_neighbors in neighbors_setting:\n",
    "    knn = KNeighborsClassifier(n_neighbors=n_neighbors)\n",
    "    knn.fit(X_train, y_train)\n",
    "    training_accuracy.append(knn.score(X_train, y_train))\n",
    "    test_accuracy.append(knn.score(X_test, y_test))"
   ]
  },
  {
   "cell_type": "code",
   "execution_count": 97,
   "metadata": {},
   "outputs": [
    {
     "data": {
      "text/plain": [
       "<matplotlib.legend.Legend at 0x154c12f3a60>"
      ]
     },
     "execution_count": 97,
     "metadata": {},
     "output_type": "execute_result"
    },
    {
     "data": {
      "image/png": "[encoded data removed]",
      "text/plain": [
       "<Figure size 432x288 with 1 Axes>"
      ]
     },
     "metadata": {
      "needs_background": "light"
     },
     "output_type": "display_data"
    }
   ],
   "source": [
    "plt.plot(neighbors_setting, training_accuracy, label=\"training accuracy\")\n",
    "plt.plot(neighbors_setting, test_accuracy, label=\"test accuracy\")\n",
    "plt.ylabel(\"Accuracy\")\n",
    "plt.xlabel(\"n_neighbors\")\n",
    "plt.legend()"
   ]
  },
  {
   "cell_type": "markdown",
   "metadata": {},
   "source": [
    "According to the chart, to be able to get best predictions, the parameter n_neighbors must be 9. Let's try it."
   ]
  },
  {
   "cell_type": "code",
   "execution_count": 164,
   "metadata": {},
   "outputs": [],
   "source": [
    "knn = KNeighborsClassifier(n_neighbors=9)"
   ]
  },
  {
   "cell_type": "code",
   "execution_count": 165,
   "metadata": {},
   "outputs": [
    {
     "data": {
      "text/plain": [
       "KNeighborsClassifier(n_neighbors=9)"
      ]
     },
     "execution_count": 165,
     "metadata": {},
     "output_type": "execute_result"
    }
   ],
   "source": [
    "knn.fit(X_train, y_train)"
   ]
  },
  {
   "cell_type": "code",
   "execution_count": 166,
   "metadata": {},
   "outputs": [],
   "source": [
    "y_pred = knn.predict(X_test)"
   ]
  },
  {
   "cell_type": "code",
   "execution_count": 167,
   "metadata": {},
   "outputs": [],
   "source": [
    "from sklearn.metrics import confusion_matrix"
   ]
  },
  {
   "cell_type": "code",
   "execution_count": 168,
   "metadata": {},
   "outputs": [],
   "source": [
    "cm = confusion_matrix(y_test, y_pred)"
   ]
  },
  {
   "cell_type": "code",
   "execution_count": 169,
   "metadata": {},
   "outputs": [
    {
     "data": {
      "text/plain": [
       "array([[63, 10],\n",
       "       [29, 39]], dtype=int64)"
      ]
     },
     "execution_count": 169,
     "metadata": {},
     "output_type": "execute_result"
    }
   ],
   "source": [
    "cm"
   ]
  },
  {
   "cell_type": "code",
   "execution_count": null,
   "metadata": {},
   "outputs": [],
   "source": []
  }
 ],
 "metadata": {
  "kernelspec": {
   "display_name": "Python 3",
   "language": "python",
   "name": "python3"
  },
  "language_info": {
   "codemirror_mode": {
    "name": "ipython",
    "version": 3
   },
   "file_extension": ".py",
   "mimetype": "text/x-python",
   "name": "python",
   "nbconvert_exporter": "python",
   "pygments_lexer": "ipython3",
   "version": "3.8.3"
  }
 },
 "nbformat": 4,
 "nbformat_minor": 4
}
