{
 "cells": [
  {
   "cell_type": "code",
   "execution_count": 6,
   "metadata": {},
   "outputs": [],
   "source": [
    "import pandas as pd\n",
    "import numpy as np\n",
    "import matplotlib.pyplot as plt\n",
    "import seaborn as sbn"
   ]
  },
  {
   "cell_type": "code",
   "execution_count": 2,
   "metadata": {},
   "outputs": [],
   "source": [
    "df = pd.read_csv(\"winequality-red.csv\")"
   ]
  },
  {
   "cell_type": "code",
   "execution_count": 3,
   "metadata": {},
   "outputs": [
    {
     "data": {
      "text/html": [
       "<div>\n",
       "<style scoped>\n",
       "    .dataframe tbody tr th:only-of-type {\n",
       "        vertical-align: middle;\n",
       "    }\n",
       "\n",
       "    .dataframe tbody tr th {\n",
       "        vertical-align: top;\n",
       "    }\n",
       "\n",
       "    .dataframe thead th {\n",
       "        text-align: right;\n",
       "    }\n",
       "</style>\n",
       "<table border=\"1\" class=\"dataframe\">\n",
       "  <thead>\n",
       "    <tr style=\"text-align: right;\">\n",
       "      <th></th>\n",
       "      <th>fixed acidity</th>\n",
       "      <th>volatile acidity</th>\n",
       "      <th>citric acid</th>\n",
       "      <th>residual sugar</th>\n",
       "      <th>chlorides</th>\n",
       "      <th>free sulfur dioxide</th>\n",
       "      <th>total sulfur dioxide</th>\n",
       "      <th>density</th>\n",
       "      <th>pH</th>\n",
       "      <th>sulphates</th>\n",
       "      <th>alcohol</th>\n",
       "      <th>quality</th>\n",
       "    </tr>\n",
       "  </thead>\n",
       "  <tbody>\n",
       "    <tr>\n",
       "      <th>0</th>\n",
       "      <td>7.4</td>\n",
       "      <td>0.700</td>\n",
       "      <td>0.00</td>\n",
       "      <td>1.9</td>\n",
       "      <td>0.076</td>\n",
       "      <td>11.0</td>\n",
       "      <td>34.0</td>\n",
       "      <td>0.99780</td>\n",
       "      <td>3.51</td>\n",
       "      <td>0.56</td>\n",
       "      <td>9.4</td>\n",
       "      <td>5</td>\n",
       "    </tr>\n",
       "    <tr>\n",
       "      <th>1</th>\n",
       "      <td>7.8</td>\n",
       "      <td>0.880</td>\n",
       "      <td>0.00</td>\n",
       "      <td>2.6</td>\n",
       "      <td>0.098</td>\n",
       "      <td>25.0</td>\n",
       "      <td>67.0</td>\n",
       "      <td>0.99680</td>\n",
       "      <td>3.20</td>\n",
       "      <td>0.68</td>\n",
       "      <td>9.8</td>\n",
       "      <td>5</td>\n",
       "    </tr>\n",
       "    <tr>\n",
       "      <th>2</th>\n",
       "      <td>7.8</td>\n",
       "      <td>0.760</td>\n",
       "      <td>0.04</td>\n",
       "      <td>2.3</td>\n",
       "      <td>0.092</td>\n",
       "      <td>15.0</td>\n",
       "      <td>54.0</td>\n",
       "      <td>0.99700</td>\n",
       "      <td>3.26</td>\n",
       "      <td>0.65</td>\n",
       "      <td>9.8</td>\n",
       "      <td>5</td>\n",
       "    </tr>\n",
       "    <tr>\n",
       "      <th>3</th>\n",
       "      <td>11.2</td>\n",
       "      <td>0.280</td>\n",
       "      <td>0.56</td>\n",
       "      <td>1.9</td>\n",
       "      <td>0.075</td>\n",
       "      <td>17.0</td>\n",
       "      <td>60.0</td>\n",
       "      <td>0.99800</td>\n",
       "      <td>3.16</td>\n",
       "      <td>0.58</td>\n",
       "      <td>9.8</td>\n",
       "      <td>6</td>\n",
       "    </tr>\n",
       "    <tr>\n",
       "      <th>4</th>\n",
       "      <td>7.4</td>\n",
       "      <td>0.700</td>\n",
       "      <td>0.00</td>\n",
       "      <td>1.9</td>\n",
       "      <td>0.076</td>\n",
       "      <td>11.0</td>\n",
       "      <td>34.0</td>\n",
       "      <td>0.99780</td>\n",
       "      <td>3.51</td>\n",
       "      <td>0.56</td>\n",
       "      <td>9.4</td>\n",
       "      <td>5</td>\n",
       "    </tr>\n",
       "    <tr>\n",
       "      <th>...</th>\n",
       "      <td>...</td>\n",
       "      <td>...</td>\n",
       "      <td>...</td>\n",
       "      <td>...</td>\n",
       "      <td>...</td>\n",
       "      <td>...</td>\n",
       "      <td>...</td>\n",
       "      <td>...</td>\n",
       "      <td>...</td>\n",
       "      <td>...</td>\n",
       "      <td>...</td>\n",
       "      <td>...</td>\n",
       "    </tr>\n",
       "    <tr>\n",
       "      <th>1594</th>\n",
       "      <td>6.2</td>\n",
       "      <td>0.600</td>\n",
       "      <td>0.08</td>\n",
       "      <td>2.0</td>\n",
       "      <td>0.090</td>\n",
       "      <td>32.0</td>\n",
       "      <td>44.0</td>\n",
       "      <td>0.99490</td>\n",
       "      <td>3.45</td>\n",
       "      <td>0.58</td>\n",
       "      <td>10.5</td>\n",
       "      <td>5</td>\n",
       "    </tr>\n",
       "    <tr>\n",
       "      <th>1595</th>\n",
       "      <td>5.9</td>\n",
       "      <td>0.550</td>\n",
       "      <td>0.10</td>\n",
       "      <td>2.2</td>\n",
       "      <td>0.062</td>\n",
       "      <td>39.0</td>\n",
       "      <td>51.0</td>\n",
       "      <td>0.99512</td>\n",
       "      <td>3.52</td>\n",
       "      <td>0.76</td>\n",
       "      <td>11.2</td>\n",
       "      <td>6</td>\n",
       "    </tr>\n",
       "    <tr>\n",
       "      <th>1596</th>\n",
       "      <td>6.3</td>\n",
       "      <td>0.510</td>\n",
       "      <td>0.13</td>\n",
       "      <td>2.3</td>\n",
       "      <td>0.076</td>\n",
       "      <td>29.0</td>\n",
       "      <td>40.0</td>\n",
       "      <td>0.99574</td>\n",
       "      <td>3.42</td>\n",
       "      <td>0.75</td>\n",
       "      <td>11.0</td>\n",
       "      <td>6</td>\n",
       "    </tr>\n",
       "    <tr>\n",
       "      <th>1597</th>\n",
       "      <td>5.9</td>\n",
       "      <td>0.645</td>\n",
       "      <td>0.12</td>\n",
       "      <td>2.0</td>\n",
       "      <td>0.075</td>\n",
       "      <td>32.0</td>\n",
       "      <td>44.0</td>\n",
       "      <td>0.99547</td>\n",
       "      <td>3.57</td>\n",
       "      <td>0.71</td>\n",
       "      <td>10.2</td>\n",
       "      <td>5</td>\n",
       "    </tr>\n",
       "    <tr>\n",
       "      <th>1598</th>\n",
       "      <td>6.0</td>\n",
       "      <td>0.310</td>\n",
       "      <td>0.47</td>\n",
       "      <td>3.6</td>\n",
       "      <td>0.067</td>\n",
       "      <td>18.0</td>\n",
       "      <td>42.0</td>\n",
       "      <td>0.99549</td>\n",
       "      <td>3.39</td>\n",
       "      <td>0.66</td>\n",
       "      <td>11.0</td>\n",
       "      <td>6</td>\n",
       "    </tr>\n",
       "  </tbody>\n",
       "</table>\n",
       "<p>1599 rows × 12 columns</p>\n",
       "</div>"
      ],
      "text/plain": [
       "      fixed acidity  volatile acidity  citric acid  residual sugar  chlorides  \\\n",
       "0               7.4             0.700         0.00             1.9      0.076   \n",
       "1               7.8             0.880         0.00             2.6      0.098   \n",
       "2               7.8             0.760         0.04             2.3      0.092   \n",
       "3              11.2             0.280         0.56             1.9      0.075   \n",
       "4               7.4             0.700         0.00             1.9      0.076   \n",
       "...             ...               ...          ...             ...        ...   \n",
       "1594            6.2             0.600         0.08             2.0      0.090   \n",
       "1595            5.9             0.550         0.10             2.2      0.062   \n",
       "1596            6.3             0.510         0.13             2.3      0.076   \n",
       "1597            5.9             0.645         0.12             2.0      0.075   \n",
       "1598            6.0             0.310         0.47             3.6      0.067   \n",
       "\n",
       "      free sulfur dioxide  total sulfur dioxide  density    pH  sulphates  \\\n",
       "0                    11.0                  34.0  0.99780  3.51       0.56   \n",
       "1                    25.0                  67.0  0.99680  3.20       0.68   \n",
       "2                    15.0                  54.0  0.99700  3.26       0.65   \n",
       "3                    17.0                  60.0  0.99800  3.16       0.58   \n",
       "4                    11.0                  34.0  0.99780  3.51       0.56   \n",
       "...                   ...                   ...      ...   ...        ...   \n",
       "1594                 32.0                  44.0  0.99490  3.45       0.58   \n",
       "1595                 39.0                  51.0  0.99512  3.52       0.76   \n",
       "1596                 29.0                  40.0  0.99574  3.42       0.75   \n",
       "1597                 32.0                  44.0  0.99547  3.57       0.71   \n",
       "1598                 18.0                  42.0  0.99549  3.39       0.66   \n",
       "\n",
       "      alcohol  quality  \n",
       "0         9.4        5  \n",
       "1         9.8        5  \n",
       "2         9.8        5  \n",
       "3         9.8        6  \n",
       "4         9.4        5  \n",
       "...       ...      ...  \n",
       "1594     10.5        5  \n",
       "1595     11.2        6  \n",
       "1596     11.0        6  \n",
       "1597     10.2        5  \n",
       "1598     11.0        6  \n",
       "\n",
       "[1599 rows x 12 columns]"
      ]
     },
     "execution_count": 3,
     "metadata": {},
     "output_type": "execute_result"
    }
   ],
   "source": [
    "df"
   ]
  },
  {
   "cell_type": "markdown",
   "metadata": {},
   "source": [
    "We have 12 columns in the dataset. The \"quality\" column will be the dependent variable. First of all, we would like to know if there is a null value."
   ]
  },
  {
   "cell_type": "code",
   "execution_count": 4,
   "metadata": {},
   "outputs": [
    {
     "data": {
      "text/plain": [
       "fixed acidity           0\n",
       "volatile acidity        0\n",
       "citric acid             0\n",
       "residual sugar          0\n",
       "chlorides               0\n",
       "free sulfur dioxide     0\n",
       "total sulfur dioxide    0\n",
       "density                 0\n",
       "pH                      0\n",
       "sulphates               0\n",
       "alcohol                 0\n",
       "quality                 0\n",
       "dtype: int64"
      ]
     },
     "execution_count": 4,
     "metadata": {},
     "output_type": "execute_result"
    }
   ],
   "source": [
    "df.isnull().sum()"
   ]
  },
  {
   "cell_type": "markdown",
   "metadata": {},
   "source": [
    "The dataset does not contain any null value."
   ]
  },
  {
   "cell_type": "markdown",
   "metadata": {},
   "source": [
    "Now let's see how much the features affect the \"quality\" data."
   ]
  },
  {
   "cell_type": "code",
   "execution_count": 5,
   "metadata": {},
   "outputs": [
    {
     "data": {
      "text/plain": [
       "volatile acidity       -0.390558\n",
       "total sulfur dioxide   -0.185100\n",
       "density                -0.174919\n",
       "chlorides              -0.128907\n",
       "pH                     -0.057731\n",
       "free sulfur dioxide    -0.050656\n",
       "residual sugar          0.013732\n",
       "fixed acidity           0.124052\n",
       "citric acid             0.226373\n",
       "sulphates               0.251397\n",
       "alcohol                 0.476166\n",
       "quality                 1.000000\n",
       "Name: quality, dtype: float64"
      ]
     },
     "execution_count": 5,
     "metadata": {},
     "output_type": "execute_result"
    }
   ],
   "source": [
    "df.corr()[\"quality\"].sort_values()"
   ]
  },
  {
   "cell_type": "markdown",
   "metadata": {},
   "source": [
    "As expected, alcohol data is the most affect quality data positively. Quality will be higher while the amount of alcohol increases."
   ]
  },
  {
   "cell_type": "markdown",
   "metadata": {},
   "source": [
    "Now we have to seperate the dependent variable, and split the data into train and test."
   ]
  },
  {
   "cell_type": "code",
   "execution_count": 9,
   "metadata": {},
   "outputs": [],
   "source": [
    "y = df[\"quality\"].values\n",
    "x = df.drop(\"quality\", axis=1).values"
   ]
  },
  {
   "cell_type": "code",
   "execution_count": 10,
   "metadata": {},
   "outputs": [],
   "source": [
    "from sklearn.model_selection import train_test_split"
   ]
  },
  {
   "cell_type": "code",
   "execution_count": 11,
   "metadata": {},
   "outputs": [],
   "source": [
    "x_train, x_test, y_train, y_test = train_test_split(x, y, test_size=0.33, random_state=0)"
   ]
  },
  {
   "cell_type": "code",
   "execution_count": 12,
   "metadata": {},
   "outputs": [],
   "source": [
    "from sklearn import preprocessing"
   ]
  },
  {
   "cell_type": "code",
   "execution_count": 13,
   "metadata": {},
   "outputs": [],
   "source": [
    "scaler = preprocessing.MinMaxScaler()"
   ]
  },
  {
   "cell_type": "code",
   "execution_count": 14,
   "metadata": {},
   "outputs": [],
   "source": [
    "X_train = scaler.fit_transform(x_train)\n",
    "X_test = scaler.transform(x_test)"
   ]
  },
  {
   "cell_type": "markdown",
   "metadata": {},
   "source": [
    "### Linear Regression"
   ]
  },
  {
   "cell_type": "code",
   "execution_count": 20,
   "metadata": {},
   "outputs": [],
   "source": [
    "from sklearn.linear_model import LinearRegression"
   ]
  },
  {
   "cell_type": "code",
   "execution_count": 21,
   "metadata": {},
   "outputs": [],
   "source": [
    "reg = LinearRegression()"
   ]
  },
  {
   "cell_type": "code",
   "execution_count": 22,
   "metadata": {},
   "outputs": [
    {
     "data": {
      "text/plain": [
       "LinearRegression()"
      ]
     },
     "execution_count": 22,
     "metadata": {},
     "output_type": "execute_result"
    }
   ],
   "source": [
    "reg.fit(X_train, y_train)"
   ]
  },
  {
   "cell_type": "code",
   "execution_count": 23,
   "metadata": {},
   "outputs": [],
   "source": [
    "pred = reg.predict(X_test)"
   ]
  },
  {
   "cell_type": "code",
   "execution_count": 52,
   "metadata": {},
   "outputs": [
    {
     "data": {
      "text/plain": [
       "array([5.74910274, 5.03339559, 6.59979132, 5.37093122, 5.91989176,\n",
       "       5.05941984, 5.41802254, 6.00585148, 4.83240203, 4.97485953,\n",
       "       5.33298637, 5.4493321 , 5.73688655, 5.10011335, 5.55217885,\n",
       "       6.4017425 , 6.82637051, 5.79749415, 5.94741288, 5.09421966,\n",
       "       6.31952916, 5.19156271, 5.61756646, 6.1842649 , 5.51819855,\n",
       "       5.00402405, 5.19137183, 6.52063411, 5.33698702, 6.22924721,\n",
       "       6.07766407, 5.86419553, 5.52829477, 5.300859  , 5.71754242,\n",
       "       6.2270965 , 5.20330876, 5.48951943, 6.37468431, 5.77405869,\n",
       "       5.4401811 , 6.05682007, 6.71020388, 6.59656132, 6.01640986,\n",
       "       4.78944644, 5.53191689, 6.01528403, 5.51786046, 6.11066512,\n",
       "       5.37272252, 5.3604719 , 5.80594032, 6.34479807, 5.72858333,\n",
       "       5.20978949, 5.08697323, 5.32291488, 6.50993011, 5.46012516,\n",
       "       5.16507494, 5.76381693, 6.04404791, 6.29527108, 5.05993966,\n",
       "       6.12597886, 5.37461431, 5.99326971, 6.12438229, 6.03380514,\n",
       "       5.30943385, 5.47791589, 5.04622338, 5.57801381, 5.6433722 ,\n",
       "       6.20548816, 5.41836097, 5.32146939, 5.7598456 , 6.35606612,\n",
       "       5.7160246 , 5.27770856, 5.96152513, 6.09756351, 5.50630643,\n",
       "       5.37793824, 6.22666503, 5.07232796, 5.33021113, 4.96463202,\n",
       "       5.16671647, 5.30622035, 5.78175007, 5.40705898, 6.24634355,\n",
       "       5.30943385, 6.3141323 , 5.3574202 , 5.45928525, 5.98109585,\n",
       "       6.88008577, 6.08066121, 5.76647376, 6.38624336, 5.62961059,\n",
       "       4.92766406, 5.62961059, 5.41581401, 6.01043978, 5.28901612,\n",
       "       5.87185384, 5.15425924, 6.29916064, 5.05349853, 5.59418768,\n",
       "       5.8068904 , 5.66297934, 6.42403488, 5.79806991, 5.61756646,\n",
       "       5.125992  , 5.93581335, 5.43181731, 5.13344594, 6.21499354,\n",
       "       6.3271235 , 5.33287118, 5.44300822, 6.04966023, 6.46358572,\n",
       "       5.43233613, 5.22028014, 6.03738967, 5.81886719, 6.31266431,\n",
       "       5.31172754, 5.91036859, 5.30308129, 6.13841801, 5.34626276,\n",
       "       5.95703905, 5.1210897 , 5.53191689, 5.27024025, 5.69208093,\n",
       "       5.73582112, 6.29916064, 6.4222524 , 6.27175832, 5.33315755,\n",
       "       5.93247042, 5.9866826 , 5.41581401, 5.51707841, 5.54831804,\n",
       "       5.37570349, 5.12351359, 5.3873446 , 6.18476864, 6.05912012,\n",
       "       5.93212049, 5.59452539, 6.2990502 , 5.10772186, 5.91639738,\n",
       "       5.01438582, 5.99368684, 6.46574129, 5.48710542, 5.98044784,\n",
       "       5.96068113, 5.5302954 , 5.01422712, 6.68635063, 5.81156919,\n",
       "       6.32340247, 6.22873008, 6.8376075 , 6.0556099 , 4.86501168,\n",
       "       5.10637014, 6.97389341, 5.48335159, 6.12756627, 6.79338526,\n",
       "       5.02547595, 5.68227746, 5.76647376, 4.97270513, 6.19483372,\n",
       "       6.05709321, 5.93675323, 5.19595897, 5.49845112, 5.19212634,\n",
       "       5.17384069, 5.33298637, 5.13385227, 5.26122753, 5.08311524,\n",
       "       5.25318268, 6.17928898, 5.18639708, 5.30178473, 5.41567675,\n",
       "       4.94705056, 5.09605242, 6.31186795, 6.05635942, 5.43012128,\n",
       "       5.93807765, 6.15494482, 5.33388026, 6.37006332, 5.01204831,\n",
       "       5.44696733, 5.96995096, 6.11688949, 5.54676008, 5.01169425,\n",
       "       5.02829729, 5.93991402, 6.3829387 , 5.772047  , 5.42133783,\n",
       "       5.99028509, 6.38180692, 5.82526078, 4.84549586, 5.48863879,\n",
       "       5.01605764, 5.89805456, 5.05605206, 5.82560721, 6.29907396,\n",
       "       5.59893751, 6.11873414, 6.5840131 , 6.53812335, 6.15253611,\n",
       "       5.34171065, 4.89105179, 5.00877922, 5.11031286, 5.97582808,\n",
       "       4.8475202 , 5.60468463, 5.22483987, 4.86161015, 6.3243965 ,\n",
       "       4.8869799 , 5.27882544, 4.93826043, 5.35605682, 5.52740697,\n",
       "       5.55460335, 5.12517479, 5.06919488, 5.11983878, 5.64556243,\n",
       "       5.34728868, 6.90289441, 5.34091113, 5.6806578 , 5.24253358,\n",
       "       4.69351672, 5.33642189, 4.93240924, 5.59419748, 6.48661644,\n",
       "       5.74666992, 5.77973093, 5.69652554, 6.05922477, 5.97685185,\n",
       "       5.84019809, 6.38764059, 5.20312278, 6.61620727, 6.17219081,\n",
       "       5.37130059, 6.93682126, 5.77973093, 6.36068514, 5.85184784,\n",
       "       5.15131542, 5.59925945, 5.37510912, 6.28459843, 5.94130254,\n",
       "       5.67326933, 5.37553065, 6.15464374, 5.32622877, 5.19426836,\n",
       "       5.69952921, 5.56257885, 5.21104264, 5.16171486, 5.26544914,\n",
       "       5.66448328, 5.01883207, 5.43523645, 5.75528776, 6.13984991,\n",
       "       5.77655087, 5.32853672, 5.05049971, 5.64854322, 5.32400368,\n",
       "       5.9465908 , 5.94170637, 5.34815559, 5.3574202 , 5.08662894,\n",
       "       6.57526672, 6.0300043 , 6.26055668, 5.1550351 , 6.4021413 ,\n",
       "       5.32400368, 5.80218969, 6.18593807, 5.98250662, 5.43126195,\n",
       "       5.16947486, 6.64068156, 5.53241846, 5.30369887, 5.70696848,\n",
       "       6.61200773, 5.21371549, 5.44854238, 6.19483372, 4.96038065,\n",
       "       6.05101425, 5.93504389, 5.4710454 , 5.38939663, 5.3181776 ,\n",
       "       5.0002123 , 5.38072285, 5.37461431, 6.36033649, 5.69952921,\n",
       "       5.57158732, 5.46529387, 5.11560386, 5.43176999, 6.53470437,\n",
       "       5.70202344, 6.11989736, 5.58523798, 5.91624134, 6.64442954,\n",
       "       4.82592834, 6.05709321, 6.15631384, 5.68280869, 6.17868555,\n",
       "       5.07470376, 6.3243965 , 5.42938776, 6.11730179, 5.71805509,\n",
       "       5.27848819, 5.48951943, 6.45593177, 5.01239201, 5.42349915,\n",
       "       5.65387997, 5.55796711, 5.47141896, 6.09689974, 5.32123643,\n",
       "       5.28864848, 5.9866826 , 6.22103307, 5.59893751, 5.79654928,\n",
       "       6.26069975, 5.8578333 , 5.06191676, 5.4453797 , 5.58405722,\n",
       "       5.57080579, 6.13590665, 5.57658075, 6.00892131, 5.63798439,\n",
       "       6.50347284, 5.50270314, 5.13305734, 6.47692398, 5.41742728,\n",
       "       5.89890392, 5.52969931, 5.9465908 , 5.80488279, 5.41954929,\n",
       "       5.33037785, 5.41954929, 5.28764145, 5.24744118, 5.87790677,\n",
       "       5.32291488, 5.93670775, 6.05833502, 5.30562661, 5.80301589,\n",
       "       5.44696733, 5.10964901, 4.95935978, 5.93694628, 5.40389161,\n",
       "       5.27599967, 6.07969779, 5.18292841, 5.34317033, 6.05892745,\n",
       "       6.0951271 , 5.75236275, 6.37538481, 5.89426357, 5.31739755,\n",
       "       5.54496083, 5.80273251, 6.15736458, 5.34128169, 5.22483987,\n",
       "       5.55256778, 6.00892131, 5.30622035, 6.29345297, 5.8132434 ,\n",
       "       6.68003868, 5.72290746, 6.37785192, 5.49931682, 5.34720985,\n",
       "       5.72329327, 5.27576102, 6.15253611, 5.10706022, 5.84238429,\n",
       "       5.62494411, 5.4710454 , 6.97423771, 5.91064121, 5.52951765,\n",
       "       6.0431432 , 5.08066349, 6.02821184, 6.56314618, 6.25574421,\n",
       "       5.20533282, 5.64357671, 5.28434411, 6.15464374, 5.57505733,\n",
       "       5.16429108, 6.71816851, 5.34626276, 5.00159245, 5.01902967,\n",
       "       5.05941984, 6.04333189, 5.09752998, 5.48037466, 5.17291445,\n",
       "       5.62045724, 5.53331835, 5.26798175, 5.42684713, 5.94130254,\n",
       "       5.48020899, 4.98064124, 5.19210782, 5.57080579, 5.28434411,\n",
       "       6.63298186, 6.63684105, 5.36537008, 6.37768876, 5.87790677,\n",
       "       6.7198392 , 5.66825747, 4.75773008, 5.72290746, 5.04423302,\n",
       "       5.20312278, 5.68305501, 5.06974632, 5.9587921 , 5.46024992,\n",
       "       5.87185384, 5.30240826, 5.17615636, 5.8981388 , 5.48532758,\n",
       "       6.33959439, 5.28765474, 5.03739973, 5.52530119, 5.66592908,\n",
       "       5.77396757, 5.28627353, 5.33992374, 5.81755302, 5.56713754,\n",
       "       6.2032881 , 6.01417567, 4.83484947, 5.77988171, 6.210386  ,\n",
       "       5.14900032, 5.61889214, 4.71737223, 5.25037812, 4.87780753,\n",
       "       5.29624995, 4.24230439, 5.82139616, 5.38901483, 5.02703511,\n",
       "       4.89211048, 5.9764403 , 5.20641148])"
      ]
     },
     "execution_count": 52,
     "metadata": {},
     "output_type": "execute_result"
    }
   ],
   "source": [
    "pred"
   ]
  },
  {
   "cell_type": "markdown",
   "metadata": {},
   "source": [
    "The predictions are in decimal, so we need to round them."
   ]
  },
  {
   "cell_type": "code",
   "execution_count": 53,
   "metadata": {},
   "outputs": [],
   "source": [
    "y_pred = np.round(pred)"
   ]
  },
  {
   "cell_type": "code",
   "execution_count": 54,
   "metadata": {},
   "outputs": [
    {
     "data": {
      "text/plain": [
       "array([6., 5., 7., 5., 6., 5., 5., 6., 5., 5., 5., 5., 6., 5., 6., 6., 7.,\n",
       "       6., 6., 5., 6., 5., 6., 6., 6., 5., 5., 7., 5., 6., 6., 6., 6., 5.,\n",
       "       6., 6., 5., 5., 6., 6., 5., 6., 7., 7., 6., 5., 6., 6., 6., 6., 5.,\n",
       "       5., 6., 6., 6., 5., 5., 5., 7., 5., 5., 6., 6., 6., 5., 6., 5., 6.,\n",
       "       6., 6., 5., 5., 5., 6., 6., 6., 5., 5., 6., 6., 6., 5., 6., 6., 6.,\n",
       "       5., 6., 5., 5., 5., 5., 5., 6., 5., 6., 5., 6., 5., 5., 6., 7., 6.,\n",
       "       6., 6., 6., 5., 6., 5., 6., 5., 6., 5., 6., 5., 6., 6., 6., 6., 6.,\n",
       "       6., 5., 6., 5., 5., 6., 6., 5., 5., 6., 6., 5., 5., 6., 6., 6., 5.,\n",
       "       6., 5., 6., 5., 6., 5., 6., 5., 6., 6., 6., 6., 6., 5., 6., 6., 5.,\n",
       "       6., 6., 5., 5., 5., 6., 6., 6., 6., 6., 5., 6., 5., 6., 6., 5., 6.,\n",
       "       6., 6., 5., 7., 6., 6., 6., 7., 6., 5., 5., 7., 5., 6., 7., 5., 6.,\n",
       "       6., 5., 6., 6., 6., 5., 5., 5., 5., 5., 5., 5., 5., 5., 6., 5., 5.,\n",
       "       5., 5., 5., 6., 6., 5., 6., 6., 5., 6., 5., 5., 6., 6., 6., 5., 5.,\n",
       "       6., 6., 6., 5., 6., 6., 6., 5., 5., 5., 6., 5., 6., 6., 6., 6., 7.,\n",
       "       7., 6., 5., 5., 5., 5., 6., 5., 6., 5., 5., 6., 5., 5., 5., 5., 6.,\n",
       "       6., 5., 5., 5., 6., 5., 7., 5., 6., 5., 5., 5., 5., 6., 6., 6., 6.,\n",
       "       6., 6., 6., 6., 6., 5., 7., 6., 5., 7., 6., 6., 6., 5., 6., 5., 6.,\n",
       "       6., 6., 5., 6., 5., 5., 6., 6., 5., 5., 5., 6., 5., 5., 6., 6., 6.,\n",
       "       5., 5., 6., 5., 6., 6., 5., 5., 5., 7., 6., 6., 5., 6., 5., 6., 6.,\n",
       "       6., 5., 5., 7., 6., 5., 6., 7., 5., 5., 6., 5., 6., 6., 5., 5., 5.,\n",
       "       5., 5., 5., 6., 6., 6., 5., 5., 5., 7., 6., 6., 6., 6., 7., 5., 6.,\n",
       "       6., 6., 6., 5., 6., 5., 6., 6., 5., 5., 6., 5., 5., 6., 6., 5., 6.,\n",
       "       5., 5., 6., 6., 6., 6., 6., 6., 5., 5., 6., 6., 6., 6., 6., 6., 7.,\n",
       "       6., 5., 6., 5., 6., 6., 6., 6., 5., 5., 5., 5., 5., 6., 5., 6., 6.,\n",
       "       5., 6., 5., 5., 5., 6., 5., 5., 6., 5., 5., 6., 6., 6., 6., 6., 5.,\n",
       "       6., 6., 6., 5., 5., 6., 6., 5., 6., 6., 7., 6., 6., 5., 5., 6., 5.,\n",
       "       6., 5., 6., 6., 5., 7., 6., 6., 6., 5., 6., 7., 6., 5., 6., 5., 6.,\n",
       "       6., 5., 7., 5., 5., 5., 5., 6., 5., 5., 5., 6., 6., 5., 5., 6., 5.,\n",
       "       5., 5., 6., 5., 7., 7., 5., 6., 6., 7., 6., 5., 6., 5., 5., 6., 5.,\n",
       "       6., 5., 6., 5., 5., 6., 5., 6., 5., 5., 6., 6., 6., 5., 5., 6., 6.,\n",
       "       6., 6., 5., 6., 6., 5., 6., 5., 5., 5., 5., 4., 6., 5., 5., 5., 6.,\n",
       "       5.])"
      ]
     },
     "execution_count": 54,
     "metadata": {},
     "output_type": "execute_result"
    }
   ],
   "source": [
    "y_pred"
   ]
  },
  {
   "cell_type": "markdown",
   "metadata": {},
   "source": [
    "Now let's compare predictions with test data."
   ]
  },
  {
   "cell_type": "code",
   "execution_count": 57,
   "metadata": {},
   "outputs": [
    {
     "data": {
      "text/plain": [
       "<matplotlib.collections.PathCollection at 0x197fc1f7640>"
      ]
     },
     "execution_count": 57,
     "metadata": {},
     "output_type": "execute_result"
    },
    {
     "data": {
      "image/png": "[encoded data removed]",
      "text/plain": [
       "<Figure size 432x288 with 1 Axes>"
      ]
     },
     "metadata": {
      "needs_background": "light"
     },
     "output_type": "display_data"
    }
   ],
   "source": [
    "plt.scatter(range(len(y_test)), y_test, color=\"blue\")"
   ]
  },
  {
   "cell_type": "code",
   "execution_count": 58,
   "metadata": {},
   "outputs": [
    {
     "data": {
      "text/plain": [
       "<matplotlib.collections.PathCollection at 0x197fd76d490>"
      ]
     },
     "execution_count": 58,
     "metadata": {},
     "output_type": "execute_result"
    },
    {
     "data": {
      "image/png": "[encoded data removed]",
      "text/plain": [
       "<Figure size 432x288 with 1 Axes>"
      ]
     },
     "metadata": {
      "needs_background": "light"
     },
     "output_type": "display_data"
    }
   ],
   "source": [
    "plt.scatter(range(len(y_pred)), y_pred, color=\"orange\")"
   ]
  },
  {
   "cell_type": "code",
   "execution_count": null,
   "metadata": {},
   "outputs": [],
   "source": []
  },
  {
   "cell_type": "code",
   "execution_count": null,
   "metadata": {},
   "outputs": [],
   "source": []
  }
 ],
 "metadata": {
  "kernelspec": {
   "display_name": "Python 3",
   "language": "python",
   "name": "python3"
  },
  "language_info": {
   "codemirror_mode": {
    "name": "ipython",
    "version": 3
   },
   "file_extension": ".py",
   "mimetype": "text/x-python",
   "name": "python",
   "nbconvert_exporter": "python",
   "pygments_lexer": "ipython3",
   "version": "3.8.3"
  }
 },
 "nbformat": 4,
 "nbformat_minor": 4
}
